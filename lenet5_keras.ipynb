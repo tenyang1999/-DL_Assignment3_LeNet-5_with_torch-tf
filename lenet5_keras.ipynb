{
 "cells": [
  {
   "cell_type": "code",
   "execution_count": 1,
   "metadata": {},
   "outputs": [
    {
     "name": "stderr",
     "output_type": "stream",
     "text": [
      "2023-05-28 15:17:28.719399: I tensorflow/core/platform/cpu_feature_guard.cc:193] This TensorFlow binary is optimized with oneAPI Deep Neural Network Library (oneDNN) to use the following CPU instructions in performance-critical operations:  SSE4.1 SSE4.2 AVX AVX2 AVX512F AVX512_VNNI FMA\n",
      "To enable them in other operations, rebuild TensorFlow with the appropriate compiler flags.\n"
     ]
    }
   ],
   "source": [
    "import tensorflow as tf\n",
    "from tensorflow import keras\n",
    "import numpy as np\n",
    "import pandas as pd\n",
    "import cv2\n",
    "from matplotlib import pyplot as plt\n",
    "import time\n",
    "import os"
   ]
  },
  {
   "cell_type": "code",
   "execution_count": 2,
   "metadata": {},
   "outputs": [],
   "source": [
    "def restruct_img(img_path,path):\n",
    "    img = cv2.imread(os.path.join(path,img_path))\n",
    "    img_gray = cv2.cvtColor(img, cv2.COLOR_BGR2GRAY)\n",
    "    img = cv2.resize(img_gray, (32,32))\n",
    "    return img\n",
    "\n",
    "# loss plot\n",
    "def draw_plot(name, fig_li):\n",
    "    #fig = plt.figure(1)\t#identifies the figure \n",
    "    plt.plot([i for i in range(len(fig_li))], fig_li)\n",
    "    plt.xlabel(\"epoch\",fontsize='13')\n",
    "    plt.ylabel(name,fontsize='13')\n",
    "    plt.grid()\n",
    "    plt.savefig(f'{name}.png')\n",
    "    #plt.clf()\n",
    "\n",
    "def evaluate(Y_pred, Y_True):\n",
    "        # Top-1\n",
    "        pred_label = np.argmax(Y_pred, axis=1)\n",
    "        top1 = round(sum(Y_True == pred_label)/(1.0*len(Y_True)), 4)\n",
    "\n",
    "        # Top-5\n",
    "        size = Y_True.shape[0]\n",
    "        count = 0\n",
    "        for i in range(size):\n",
    "            top5 = np.argpartition(Y_pred[i],-5)[-5:]\n",
    "            if Y_True[i] in top5:\n",
    "                count += 1\n",
    "        top5 = round(count/size,4)\n",
    "\n",
    "        return top1,top5"
   ]
  },
  {
   "cell_type": "code",
   "execution_count": 3,
   "metadata": {},
   "outputs": [],
   "source": [
    "pre_path = \"../image/\"\n",
    "train = 'train.txt'\n",
    "val = 'val.txt'\n",
    "test = 'test.txt'\n",
    "train = pd.read_csv(os.path.join(pre_path, train) , delimiter=\" \", header=None)\n",
    "val = pd.read_csv(os.path.join(pre_path, val), delimiter=\" \", header=None)\n",
    "test = pd.read_csv(os.path.join(pre_path, test), delimiter=\" \", header=None)\n",
    "\n",
    "train.columns = ['image', 'label']\n",
    "val.columns = ['image', 'label']\n",
    "test.columns = ['image', 'label']\n",
    "\n",
    "train['image'] = train['image'].apply(restruct_img,args=(pre_path,))\n",
    "val['image'] = val['image'].apply(restruct_img,args=(pre_path,))\n",
    "test['image'] = test['image'].apply(restruct_img,args=(pre_path,))\n",
    "\n",
    "X_train = np.array(list(train['image'].values))\n",
    "y_train = np.array(train['label'])\n",
    "X_val = np.array(list(val['image'].values))\n",
    "y_val = np.array(val['label'])\n",
    "X_test = np.array(list(test['image'].values))\n",
    "y_test = np.array(test['label'])"
   ]
  },
  {
   "cell_type": "code",
   "execution_count": 3,
   "metadata": {},
   "outputs": [
    {
     "name": "stdout",
     "output_type": "stream",
     "text": [
      "Model: \"sequential\"\n",
      "_________________________________________________________________\n",
      " Layer (type)                Output Shape              Param #   \n",
      "=================================================================\n",
      " conv2d (Conv2D)             (None, 28, 28, 6)         156       \n",
      "                                                                 \n",
      " max_pooling2d (MaxPooling2D  (None, 14, 14, 6)        0         \n",
      " )                                                               \n",
      "                                                                 \n",
      " conv2d_1 (Conv2D)           (None, 10, 10, 16)        2416      \n",
      "                                                                 \n",
      " max_pooling2d_1 (MaxPooling  (None, 5, 5, 16)         0         \n",
      " 2D)                                                             \n",
      "                                                                 \n",
      " flatten (Flatten)           (None, 400)               0         \n",
      "                                                                 \n",
      " dense (Dense)               (None, 120)               48120     \n",
      "                                                                 \n",
      " dense_1 (Dense)             (None, 84)                10164     \n",
      "                                                                 \n",
      " dense_2 (Dense)             (None, 50)                4250      \n",
      "                                                                 \n",
      "=================================================================\n",
      "Total params: 65,106\n",
      "Trainable params: 65,106\n",
      "Non-trainable params: 0\n",
      "_________________________________________________________________\n"
     ]
    },
    {
     "name": "stderr",
     "output_type": "stream",
     "text": [
      "2023-05-28 15:17:50.935502: I tensorflow/core/platform/cpu_feature_guard.cc:193] This TensorFlow binary is optimized with oneAPI Deep Neural Network Library (oneDNN) to use the following CPU instructions in performance-critical operations:  SSE4.1 SSE4.2 AVX AVX2 AVX512F AVX512_VNNI FMA\n",
      "To enable them in other operations, rebuild TensorFlow with the appropriate compiler flags.\n",
      "2023-05-28 15:17:50.946957: I tensorflow/core/common_runtime/process_util.cc:146] Creating new thread pool with default inter op setting: 2. Tune using inter_op_parallelism_threads for best performance.\n"
     ]
    }
   ],
   "source": [
    "model = keras.models.Sequential([\n",
    "    keras.layers.Conv2D(filters=6, kernel_size=5, strides=1,  activation='tanh', input_shape=(32, 32, 1), padding='valid'), #C1\n",
    "    keras.layers.MaxPooling2D(), #S2\n",
    "    keras.layers.Conv2D(filters=16, kernel_size=5, strides=1, activation='tanh', padding='valid'), #C3\n",
    "    keras.layers.MaxPooling2D(), #S4\n",
    "    keras.layers.Flatten(), #Flatten    \n",
    "    keras.layers.Dense(120, activation='tanh'), #F6\n",
    "    keras.layers.Dense(84, activation='tanh'), #F6\n",
    "    keras.layers.Dense(50, activation='softmax') #Output layer\n",
    "    ])\n",
    "model.summary()\n",
    "model.compile(optimizer= \"adam\", loss=keras.losses.sparse_categorical_crossentropy, metrics=['accuracy'])"
   ]
  },
  {
   "cell_type": "code",
   "execution_count": 5,
   "metadata": {},
   "outputs": [
    {
     "name": "stdout",
     "output_type": "stream",
     "text": [
      "Epoch 1/10\n",
      "248/248 [==============================] - 40s 156ms/step - loss: 3.6863 - accuracy: 0.0677\n",
      "Epoch 2/10\n",
      "248/248 [==============================] - 39s 157ms/step - loss: 3.5042 - accuracy: 0.0975\n",
      "Epoch 3/10\n",
      "248/248 [==============================] - 36s 146ms/step - loss: 3.4246 - accuracy: 0.1131\n",
      "Epoch 4/10\n",
      "248/248 [==============================] - 37s 148ms/step - loss: 3.3601 - accuracy: 0.1255\n",
      "Epoch 5/10\n",
      "248/248 [==============================] - 38s 153ms/step - loss: 3.3220 - accuracy: 0.1338\n",
      "Epoch 6/10\n",
      "248/248 [==============================] - 38s 154ms/step - loss: 3.2901 - accuracy: 0.1394\n",
      "Epoch 7/10\n",
      "248/248 [==============================] - 37s 151ms/step - loss: 3.2627 - accuracy: 0.1453\n",
      "Epoch 8/10\n",
      "248/248 [==============================] - 37s 148ms/step - loss: 3.2360 - accuracy: 0.1508\n",
      "Epoch 9/10\n",
      "248/248 [==============================] - 37s 148ms/step - loss: 3.2160 - accuracy: 0.1555\n",
      "Epoch 10/10\n",
      "248/248 [==============================] - 36s 145ms/step - loss: 3.1884 - accuracy: 0.1612\n"
     ]
    }
   ],
   "source": [
    "history = model.fit(X_train, y_train, epochs=10, batch_size=256, validation_split=0, shuffle=True)"
   ]
  },
  {
   "cell_type": "code",
   "execution_count": 8,
   "metadata": {},
   "outputs": [
    {
     "name": "stdout",
     "output_type": "stream",
     "text": [
      "15/15 [==============================] - 0s 17ms/step\n"
     ]
    },
    {
     "data": {
      "text/plain": [
       "(0.1222, 0.4244)"
      ]
     },
     "execution_count": 8,
     "metadata": {},
     "output_type": "execute_result"
    }
   ],
   "source": [
    "predict_y = model.predict(X_val)\n",
    "top1, top5 = evaluate(predict_y, y_val )\n",
    "print(top1, top5)\n",
    "\n",
    "predict_y = model.predict(X_test)\n",
    "top1, top5 = evaluate(predict_y, y_test )\n",
    "print(top1, top5)"
   ]
  },
  {
   "cell_type": "code",
   "execution_count": 6,
   "metadata": {},
   "outputs": [
    {
     "data": {
      "image/png": "[encoded data removed]",
      "text/plain": [
       "<Figure size 640x480 with 1 Axes>"
      ]
     },
     "metadata": {},
     "output_type": "display_data"
    }
   ],
   "source": [
    "draw_plot(\"loss\", history.history['loss'])"
   ]
  },
  {
   "cell_type": "code",
   "execution_count": null,
   "metadata": {},
   "outputs": [],
   "source": []
  }
 ],
 "metadata": {
  "kernelspec": {
   "display_name": "image",
   "language": "python",
   "name": "python3"
  },
  "language_info": {
   "codemirror_mode": {
    "name": "ipython",
    "version": 3
   },
   "file_extension": ".py",
   "mimetype": "text/x-python",
   "name": "python",
   "nbconvert_exporter": "python",
   "pygments_lexer": "ipython3",
   "version": "3.10.11"
  },
  "orig_nbformat": 4
 },
 "nbformat": 4,
 "nbformat_minor": 2
}
