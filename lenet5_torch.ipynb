{
 "cells": [
  {
   "cell_type": "code",
   "execution_count": 1,
   "metadata": {},
   "outputs": [],
   "source": [
    "import torch\n",
    "from torch import nn\n",
    "from torch.utils.data import DataLoader\n",
    "from lenet5_torch import LeNet5\n",
    "from torch_dataset import TorchDataset\n",
    "import pandas as pd\n",
    "import numpy as np\n",
    "import os\n",
    "import time\n",
    "from matplotlib import pyplot as plt\n",
    "from tqdm import tqdm"
   ]
  },
  {
   "cell_type": "code",
   "execution_count": 2,
   "metadata": {},
   "outputs": [
    {
     "data": {
      "text/plain": [
       "True"
      ]
     },
     "execution_count": 2,
     "metadata": {},
     "output_type": "execute_result"
    }
   ],
   "source": [
    "torch.cuda.is_available()"
   ]
  },
  {
   "cell_type": "code",
   "execution_count": 3,
   "metadata": {},
   "outputs": [
    {
     "data": {
      "text/plain": [
       "1"
      ]
     },
     "execution_count": 3,
     "metadata": {},
     "output_type": "execute_result"
    }
   ],
   "source": [
    "torch.cuda.device_count()"
   ]
  },
  {
   "cell_type": "code",
   "execution_count": 4,
   "metadata": {},
   "outputs": [],
   "source": [
    "def draw_plot(name, fig_li):\n",
    "    #fig = plt.figure(1)\t#identifies the figure \n",
    "    plt.plot([i for i in range(len(fig_li))], fig_li)\n",
    "    plt.xlabel(\"epoch\",fontsize='13')\n",
    "    plt.ylabel(name,fontsize='13')\n",
    "    plt.grid()\n",
    "    plt.savefig(f'{name}.png')\n",
    "    #plt.clf()\n",
    "\n"
   ]
  },
  {
   "cell_type": "code",
   "execution_count": 5,
   "metadata": {},
   "outputs": [],
   "source": [
    "pre_path = \"../image/\"\n",
    "train = 'train.txt'\n",
    "val = 'val.txt'\n",
    "test = 'test.txt'\n",
    "\n",
    "train_data = TorchDataset(filename=os.path.join(pre_path, train), image_dir=pre_path,repeat=1)\n",
    "val_data = TorchDataset(filename=os.path.join(pre_path, val), image_dir=pre_path,repeat=1)\n",
    "test_data = TorchDataset(filename=os.path.join(pre_path, test), image_dir=pre_path,repeat=1)\n"
   ]
  },
  {
   "cell_type": "code",
   "execution_count": 6,
   "metadata": {},
   "outputs": [],
   "source": [
    "def encode_label(y):\n",
    "        enc_y = np.zeros((y.shape[0],50))\n",
    "        for idx,label in enumerate(y):\n",
    "            enc_y[idx,label] = 1\n",
    "        return torch.from_numpy(enc_y)\n",
    "\n",
    "def evaluate(Y_pred, Y_True):\n",
    "        # Top-1\n",
    "        pred_label = np.argmax(Y_pred, axis=1)\n",
    "        top1 = round(sum(Y_True == pred_label)/(1.0*len(Y_True)), 4)\n",
    "\n",
    "        # Top-5\n",
    "        size = Y_True.shape[0]\n",
    "        count = 0\n",
    "        for i in range(size):\n",
    "            top5 = np.argpartition(Y_pred[i],-5)[-5:]\n",
    "            if Y_True[i] in top5:\n",
    "                count += 1\n",
    "        top5 = round(count/size,4)\n",
    "\n",
    "        return top1,top5"
   ]
  },
  {
   "cell_type": "code",
   "execution_count": 7,
   "metadata": {},
   "outputs": [],
   "source": [
    "def train(train_data):\n",
    "    model.train()\n",
    "    train_loader = DataLoader(dataset=train_data, batch_size=256, shuffle=False)\n",
    "\n",
    "    for train_x, train_y in  tqdm(train_loader):\n",
    "\n",
    "        optimizer.zero_grad()\n",
    "        \n",
    "        N,H,W = train_x.shape\n",
    "        train_x = train_x.reshape(N,1,H,W)\n",
    "        train_y = encode_label(train_y)\n",
    "        train_x = train_x.to(device)\n",
    "        train_y = train_y.to(device)\n",
    "        \n",
    "        predict_y = model(train_x.float())\n",
    "        \n",
    "        loss = criterion(train_y.float(), predict_y)\n",
    "        loss.backward()\n",
    "        \n",
    "        optimizer.step()\n",
    "        \n",
    "    return loss.item()\n",
    "\n",
    "def test(test_data_):\n",
    "    model.eval()\n",
    "    test_data_ = DataLoader(dataset=test_data_, batch_size=450, shuffle=False)\n",
    "\n",
    "    for idx, (test_x, test_y) in enumerate(test_data_):\n",
    "            N,H,W = test_x.shape\n",
    "            test_x = test_x.reshape(N,1,H,W)\n",
    "            \n",
    "            test_x = test_x.to(device)\n",
    "            test_y = test_y.to(device)\n",
    "        \n",
    "            predict_y = model(test_x.float()).cpu()\n",
    "            predict_y = predict_y.detach().numpy()\n",
    "            test_y = test_y.cpu()\n",
    "            test_y = test_y.detach().numpy().reshape(-1)\n",
    "            \n",
    "            top1,top5 = evaluate(predict_y, test_y)\n",
    "\n",
    "    return top1,top5\n"
   ]
  },
  {
   "cell_type": "code",
   "execution_count": 12,
   "metadata": {},
   "outputs": [],
   "source": [
    "epoch = 1\n",
    "batch = 200\n",
    "model = LeNet5()\n",
    "optimizer = torch.optim.Adam(params=model.parameters(), lr=0.0001)\n",
    "criterion = nn.CrossEntropyLoss()\n",
    "device = torch.device('cuda' if torch.cuda.is_available() else 'cpu')\n",
    "model = model.cuda()"
   ]
  },
  {
   "cell_type": "code",
   "execution_count": 13,
   "metadata": {},
   "outputs": [
    {
     "name": "stderr",
     "output_type": "stream",
     "text": [
      "100%|██████████| 248/248 [01:48<00:00,  2.29it/s]\n"
     ]
    },
    {
     "name": "stdout",
     "output_type": "stream",
     "text": [
      "-588.6942138671875\n",
      "109.79986929893494\n",
      "109.80010962486267\n"
     ]
    }
   ],
   "source": [
    "best_val = best_test = 0\n",
    "best_val_epoch = best_test_epoch = 0\n",
    "loss_list = []\n",
    "train_list = []\n",
    "val_list = []\n",
    "test_list = []\n",
    "start = time.time()\n",
    "for epoch in range(1):\n",
    "    loss = train(train_data)\n",
    "    loss_list.append(loss)\n",
    "    \n",
    "    top1_val, top5_val = test(val_data)\n",
    "    val_list.append(top5_val)\n",
    "    top1_test, top5_test = test(test_data)\n",
    "    test_list.append(top5_test)\n",
    "    if top1_val > best_val:\n",
    "        best_val = top1_val\n",
    "        best_val_epoch = epoch\n",
    "        best_model = model\n",
    "    if top1_test > best_test:\n",
    "        best_test = top1_test\n",
    "        best_test_epoch = epoch\n",
    "        best_test_model = model\n",
    "    \n",
    "    print(loss)\n",
    "    print(time.time()-start)\n",
    "end = time.time()\n",
    "print(end-start)\n"
   ]
  },
  {
   "cell_type": "code",
   "execution_count": 14,
   "metadata": {},
   "outputs": [
    {
     "data": {
      "text/plain": [
       "(0.02, 0.1)"
      ]
     },
     "execution_count": 14,
     "metadata": {},
     "output_type": "execute_result"
    }
   ],
   "source": [
    "top1_val, top5_val = test(val_data)\n",
    "top1_val, top5_val"
   ]
  },
  {
   "cell_type": "code",
   "execution_count": 10,
   "metadata": {},
   "outputs": [
    {
     "data": {
      "image/png": "[encoded data removed]",
      "text/plain": [
       "<Figure size 640x480 with 1 Axes>"
      ]
     },
     "metadata": {},
     "output_type": "display_data"
    }
   ],
   "source": [
    "draw_plot(\"loss\", loss_list)"
   ]
  },
  {
   "cell_type": "code",
   "execution_count": 11,
   "metadata": {},
   "outputs": [
    {
     "data": {
      "image/png": "[encoded data removed]",
      "text/plain": [
       "<Figure size 640x480 with 1 Axes>"
      ]
     },
     "metadata": {},
     "output_type": "display_data"
    }
   ],
   "source": [
    "draw_plot(\"pytorch_test\", test_list)"
   ]
  },
  {
   "attachments": {},
   "cell_type": "markdown",
   "metadata": {},
   "source": [
    "# try"
   ]
  },
  {
   "cell_type": "code",
   "execution_count": null,
   "metadata": {},
   "outputs": [],
   "source": [
    "from torchvision.datasets import mnist\n",
    "from torchvision.transforms import ToTensor\n",
    "\n",
    "train_dataset = mnist.MNIST(root='./train', train=True, transform=ToTensor(),download=True)\n",
    "train_dataset"
   ]
  },
  {
   "cell_type": "code",
   "execution_count": null,
   "metadata": {},
   "outputs": [],
   "source": [
    "from torch.utils.data import DataLoader\n",
    "train_loader = DataLoader(train_dataset, batch_size=256)"
   ]
  },
  {
   "cell_type": "code",
   "execution_count": null,
   "metadata": {},
   "outputs": [],
   "source": [
    "for idx, (train_x, train_label) in enumerate(train_loader):\n",
    "    print(train_x.shape)"
   ]
  },
  {
   "cell_type": "code",
   "execution_count": null,
   "metadata": {},
   "outputs": [],
   "source": [
    "val_x, val_y = val_data.__getitem__()"
   ]
  },
  {
   "cell_type": "code",
   "execution_count": null,
   "metadata": {},
   "outputs": [],
   "source": []
  }
 ],
 "metadata": {
  "kernelspec": {
   "display_name": "image",
   "language": "python",
   "name": "python3"
  },
  "language_info": {
   "codemirror_mode": {
    "name": "ipython",
    "version": 3
   },
   "file_extension": ".py",
   "mimetype": "text/x-python",
   "name": "python",
   "nbconvert_exporter": "python",
   "pygments_lexer": "ipython3",
   "version": "3.10.11"
  }
 },
 "nbformat": 4,
 "nbformat_minor": 4
}
