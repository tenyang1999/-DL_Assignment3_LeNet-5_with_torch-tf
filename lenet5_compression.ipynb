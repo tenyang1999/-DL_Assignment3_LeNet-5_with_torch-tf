{
 "cells": [
  {
   "cell_type": "code",
   "execution_count": 1,
   "metadata": {},
   "outputs": [
    {
     "data": {
      "text/plain": [
       "True"
      ]
     },
     "execution_count": 1,
     "metadata": {},
     "output_type": "execute_result"
    }
   ],
   "source": [
    "import torch\n",
    "from torch import nn\n",
    "from torch.utils.data import DataLoader\n",
    "from lenet5_compression import LeNet5\n",
    "from torch_dataset import TorchDataset\n",
    "from torchsummary import summary\n",
    "import torch.nn.utils.prune as prune\n",
    "import pandas as pd\n",
    "import numpy as np\n",
    "import os\n",
    "import time\n",
    "from matplotlib import pyplot as plt\n",
    "from tqdm import tqdm\n",
    "torch.cuda.is_available()"
   ]
  },
  {
   "cell_type": "code",
   "execution_count": 3,
   "metadata": {},
   "outputs": [],
   "source": [
    "def draw_plot(name, fig_li):\n",
    "    #fig = plt.figure(1)\t#identifies the figure \n",
    "    plt.plot([i for i in range(len(fig_li))], fig_li)\n",
    "    plt.xlabel(\"epoch\",fontsize='13')\n",
    "    plt.ylabel(name,fontsize='13')\n",
    "    plt.grid()\n",
    "    plt.savefig(f'{name}.png')\n",
    "    #plt.clf()\n",
    "    \n",
    "def print_size_of_model(model):\n",
    "    \"\"\" Prints the real size of the model \"\"\"\n",
    "    torch.save(model.state_dict(), \"temp.p\")\n",
    "    print('Size (MB):', os.path.getsize(\"temp.p\")/1e6)\n",
    "    os.remove('temp.p')\n",
    "\n"
   ]
  },
  {
   "cell_type": "code",
   "execution_count": 4,
   "metadata": {},
   "outputs": [],
   "source": [
    "def encode_label(y):\n",
    "        enc_y = np.zeros((y.shape[0],50))\n",
    "        for idx,label in enumerate(y):\n",
    "            enc_y[idx,label] = 1\n",
    "        return torch.from_numpy(enc_y)\n",
    "\n",
    "def evaluate(Y_pred, Y_True):\n",
    "        # Top-1\n",
    "        pred_label = np.argmax(Y_pred, axis=1)\n",
    "        top1 = round(sum(Y_True == pred_label)/(1.0*len(Y_True)), 4)\n",
    "\n",
    "        # Top-5\n",
    "        size = Y_True.shape[0]\n",
    "        count = 0\n",
    "        for i in range(size):\n",
    "            top5 = np.argpartition(Y_pred[i],-5)[-5:]\n",
    "            if Y_True[i] in top5:\n",
    "                count += 1\n",
    "        top5 = round(count/size,4)\n",
    "\n",
    "        return top1,top5"
   ]
  },
  {
   "cell_type": "code",
   "execution_count": 5,
   "metadata": {},
   "outputs": [],
   "source": [
    "def train(train_data):\n",
    "    model.train()\n",
    "    train_loader = DataLoader(dataset=train_data, batch_size=256, shuffle=False)\n",
    "\n",
    "    for train_x, train_y in  tqdm(train_loader):\n",
    "\n",
    "        optimizer.zero_grad()\n",
    "        \n",
    "        N,H,W = train_x.shape\n",
    "        train_x = train_x.reshape(N,1,H,W)\n",
    "        train_y = encode_label(train_y)\n",
    "        train_x = train_x.to(device)\n",
    "        train_y = train_y.to(device)\n",
    "        \n",
    "        predict_y = model(train_x.float())\n",
    "        \n",
    "        loss = criterion(train_y.float(), predict_y)\n",
    "        loss.backward()\n",
    "        \n",
    "        optimizer.step()\n",
    "        \n",
    "    return loss.item()\n",
    "\n",
    "def test(test_data_):\n",
    "    model.eval()\n",
    "    test_data_ = DataLoader(dataset=test_data_, batch_size=450, shuffle=False)\n",
    "\n",
    "    for idx, (test_x, test_y) in enumerate(test_data_):\n",
    "            N,H,W = test_x.shape\n",
    "            test_x = test_x.reshape(N,1,H,W)\n",
    "            \n",
    "            test_x = test_x.to(device)\n",
    "            test_y = test_y.to(device)\n",
    "        \n",
    "            predict_y = model(test_x.float()).cpu()\n",
    "            predict_y = predict_y.detach().numpy()\n",
    "            test_y = test_y.cpu()\n",
    "            test_y = test_y.detach().numpy().reshape(-1)\n",
    "            \n",
    "            top1,top5 = evaluate(predict_y, test_y)\n",
    "\n",
    "    return top1,top5\n"
   ]
  },
  {
   "cell_type": "code",
   "execution_count": 6,
   "metadata": {},
   "outputs": [],
   "source": [
    "pre_path = \"../image/\"\n",
    "train = 'train.txt'\n",
    "val = 'val.txt'\n",
    "test = 'test.txt'\n",
    "\n",
    "train_data = TorchDataset(filename=os.path.join(pre_path, train), image_dir=pre_path,repeat=1)\n",
    "val_data = TorchDataset(filename=os.path.join(pre_path, val), image_dir=pre_path,repeat=1)\n",
    "test_data = TorchDataset(filename=os.path.join(pre_path, test), image_dir=pre_path,repeat=1)\n"
   ]
  },
  {
   "cell_type": "code",
   "execution_count": 7,
   "metadata": {},
   "outputs": [],
   "source": [
    "epoch = 1\n",
    "batch = 200\n",
    "model = LeNet5()\n",
    "optimizer = torch.optim.Adam(params=model.parameters(), lr=0.0001)\n",
    "criterion = nn.CrossEntropyLoss()\n",
    "device = torch.device('cuda' if torch.cuda.is_available() else 'cpu')\n",
    "model = model.cuda()"
   ]
  },
  {
   "attachments": {},
   "cell_type": "markdown",
   "metadata": {},
   "source": [
    "## quantization"
   ]
  },
  {
   "cell_type": "code",
   "execution_count": 7,
   "metadata": {},
   "outputs": [
    {
     "name": "stdout",
     "output_type": "stream",
     "text": [
      "LeNet5(\n",
      "  (C1): Conv2d(1, 6, kernel_size=(5, 5), stride=(1, 1))\n",
      "  (Sigmoid1): ReLU()\n",
      "  (S2): MaxPool2d(kernel_size=2, stride=2, padding=0, dilation=1, ceil_mode=False)\n",
      "  (C3): Conv2d(6, 16, kernel_size=(5, 5), stride=(1, 1))\n",
      "  (Sigmoid2): ReLU()\n",
      "  (S4): MaxPool2d(kernel_size=2, stride=2, padding=0, dilation=1, ceil_mode=False)\n",
      "  (FC5): Linear(in_features=400, out_features=120, bias=True)\n",
      "  (ReLU3): ReLU()\n",
      "  (FC6): Linear(in_features=120, out_features=84, bias=True)\n",
      "  (ReLU4): ReLU()\n",
      "  (FC7): Linear(in_features=84, out_features=50, bias=True)\n",
      "  (quant): QuantStub()\n",
      "  (dequant): DeQuantStub()\n",
      ")\n",
      "Size (MB): 0.263459\n"
     ]
    }
   ],
   "source": [
    "print(model)\n",
    "print_size_of_model(model)"
   ]
  },
  {
   "cell_type": "code",
   "execution_count": 8,
   "metadata": {},
   "outputs": [
    {
     "name": "stdout",
     "output_type": "stream",
     "text": [
      "LeNet5(\n",
      "  (C1): ConvReLU2d(\n",
      "    (0): Conv2d(1, 6, kernel_size=(5, 5), stride=(1, 1))\n",
      "    (1): ReLU()\n",
      "  )\n",
      "  (Sigmoid1): Identity()\n",
      "  (S2): MaxPool2d(kernel_size=2, stride=2, padding=0, dilation=1, ceil_mode=False)\n",
      "  (C3): ConvReLU2d(\n",
      "    (0): Conv2d(6, 16, kernel_size=(5, 5), stride=(1, 1))\n",
      "    (1): ReLU()\n",
      "  )\n",
      "  (Sigmoid2): Identity()\n",
      "  (S4): MaxPool2d(kernel_size=2, stride=2, padding=0, dilation=1, ceil_mode=False)\n",
      "  (FC5): Linear(in_features=400, out_features=120, bias=True)\n",
      "  (ReLU3): ReLU()\n",
      "  (FC6): Linear(in_features=120, out_features=84, bias=True)\n",
      "  (ReLU4): ReLU()\n",
      "  (FC7): Linear(in_features=84, out_features=50, bias=True)\n",
      "  (quant): QuantStub()\n",
      "  (dequant): DeQuantStub()\n",
      ")\n",
      "Size (MB): 0.263587\n"
     ]
    }
   ],
   "source": [
    "model.fuse_model()\n",
    "print(model)\n",
    "print_size_of_model(model)"
   ]
  },
  {
   "cell_type": "code",
   "execution_count": 8,
   "metadata": {},
   "outputs": [
    {
     "name": "stdout",
     "output_type": "stream",
     "text": [
      "----------------------------------------------------------------\n",
      "        Layer (type)               Output Shape         Param #\n",
      "================================================================\n",
      "         QuantStub-1            [-1, 1, 32, 32]               0\n",
      "            Conv2d-2            [-1, 6, 28, 28]             156\n",
      "              ReLU-3            [-1, 6, 28, 28]               0\n",
      "         MaxPool2d-4            [-1, 6, 14, 14]               0\n",
      "            Conv2d-5           [-1, 16, 10, 10]           2,416\n",
      "              ReLU-6           [-1, 16, 10, 10]               0\n",
      "         MaxPool2d-7             [-1, 16, 5, 5]               0\n",
      "            Linear-8                  [-1, 120]          48,120\n",
      "              ReLU-9                  [-1, 120]               0\n",
      "           Linear-10                   [-1, 84]          10,164\n",
      "             ReLU-11                   [-1, 84]               0\n",
      "           Linear-12                   [-1, 50]           4,250\n",
      "      DeQuantStub-13                   [-1, 50]               0\n",
      "================================================================\n",
      "Total params: 65,106\n",
      "Trainable params: 65,106\n",
      "Non-trainable params: 0\n",
      "----------------------------------------------------------------\n",
      "Input size (MB): 0.00\n",
      "Forward/backward pass size (MB): 0.12\n",
      "Params size (MB): 0.25\n",
      "Estimated Total Size (MB): 0.37\n",
      "----------------------------------------------------------------\n"
     ]
    }
   ],
   "source": [
    "summary(model, (1, 32, 32))"
   ]
  },
  {
   "attachments": {},
   "cell_type": "markdown",
   "metadata": {},
   "source": [
    "## pruning"
   ]
  },
  {
   "cell_type": "code",
   "execution_count": 10,
   "metadata": {},
   "outputs": [],
   "source": [
    "for name, module in model.named_modules():\n",
    "    # prune 20% of connections in all 2D-conv layers \n",
    "    if isinstance(module, torch.nn.Conv2d):\n",
    "        prune.l1_unstructured(module, name='weight', amount=0.2)\n",
    "    # prune 40% of connections in all linear layers \n",
    "    elif isinstance(module, torch.nn.Linear):\n",
    "        prune.l1_unstructured(module, name='weight', amount=0.6)"
   ]
  },
  {
   "cell_type": "code",
   "execution_count": null,
   "metadata": {},
   "outputs": [],
   "source": [
    "list(model.C1.weight)"
   ]
  },
  {
   "attachments": {},
   "cell_type": "markdown",
   "metadata": {},
   "source": [
    "# Train"
   ]
  },
  {
   "cell_type": "code",
   "execution_count": 10,
   "metadata": {},
   "outputs": [
    {
     "name": "stderr",
     "output_type": "stream",
     "text": [
      "100%|██████████| 248/248 [02:51<00:00,  1.44it/s]\n"
     ]
    },
    {
     "name": "stdout",
     "output_type": "stream",
     "text": [
      "-45770036.0\n",
      "173.74872136116028\n",
      "173.7490315437317\n"
     ]
    }
   ],
   "source": [
    "best_val = best_test = 0\n",
    "best_val_epoch = best_test_epoch = 0\n",
    "loss_list = []\n",
    "train_list = []\n",
    "val_list = []\n",
    "test_list = []\n",
    "start = time.time()\n",
    "for epoch in range(1):\n",
    "    loss = train(train_data)\n",
    "    loss_list.append(loss)\n",
    "    \n",
    "    top1_val, top5_val = test(val_data)\n",
    "    val_list.append(top5_val)\n",
    "    top1_test, top5_test = test(test_data)\n",
    "    test_list.append(top5_test)\n",
    "    if top1_val > best_val:\n",
    "        best_val = top1_val\n",
    "        best_val_epoch = epoch\n",
    "        best_model = model\n",
    "    if top1_test > best_test:\n",
    "        best_test = top1_test\n",
    "        best_test_epoch = epoch\n",
    "        best_test_model = model\n",
    "    \n",
    "    print(loss)\n",
    "    print(time.time()-start)\n",
    "end = time.time()\n",
    "print(end-start)\n"
   ]
  },
  {
   "cell_type": "code",
   "execution_count": 15,
   "metadata": {},
   "outputs": [
    {
     "name": "stdout",
     "output_type": "stream",
     "text": [
      "0.02 0.1\n",
      "0.02 0.1\n"
     ]
    }
   ],
   "source": [
    "top1_val, top5_val = test(val_data)\n",
    "print(top1_val, top5_val)\n",
    "\n",
    "top1_test, top5_test = test(test_data)\n",
    "print(top1_test, top5_test)\n",
    "\n"
   ]
  },
  {
   "cell_type": "code",
   "execution_count": 10,
   "metadata": {},
   "outputs": [
    {
     "data": {
      "image/png": "[encoded data removed]",
      "text/plain": [
       "<Figure size 640x480 with 1 Axes>"
      ]
     },
     "metadata": {},
     "output_type": "display_data"
    }
   ],
   "source": [
    "draw_plot(\"loss\", loss_list)"
   ]
  }
 ],
 "metadata": {
  "kernelspec": {
   "display_name": "image",
   "language": "python",
   "name": "python3"
  },
  "language_info": {
   "codemirror_mode": {
    "name": "ipython",
    "version": 3
   },
   "file_extension": ".py",
   "mimetype": "text/x-python",
   "name": "python",
   "nbconvert_exporter": "python",
   "pygments_lexer": "ipython3",
   "version": "3.10.11"
  }
 },
 "nbformat": 4,
 "nbformat_minor": 4
}
